{
 "cells": [
  {
   "cell_type": "markdown",
   "id": "thorough-factor",
   "metadata": {
    "papermill": {
     "duration": 0.029498,
     "end_time": "2021-05-27T12:14:18.811047",
     "exception": false,
     "start_time": "2021-05-27T12:14:18.781549",
     "status": "completed"
    },
    "tags": []
   },
   "source": [
    "# EE226 - Coding 3\n",
    "## PageRank & node2vec"
   ]
  },
  {
   "cell_type": "markdown",
   "id": "marine-tablet",
   "metadata": {
    "papermill": {
     "duration": 0.026397,
     "end_time": "2021-05-27T12:14:18.864184",
     "exception": false,
     "start_time": "2021-05-27T12:14:18.837787",
     "status": "completed"
    },
    "tags": []
   },
   "source": [
    "### PageRank"
   ]
  },
  {
   "cell_type": "markdown",
   "id": "independent-filling",
   "metadata": {
    "papermill": {
     "duration": 0.026775,
     "end_time": "2021-05-27T12:14:18.917374",
     "exception": false,
     "start_time": "2021-05-27T12:14:18.890599",
     "status": "completed"
    },
    "tags": []
   },
   "source": [
    "### Setup"
   ]
  },
  {
   "cell_type": "markdown",
   "id": "pressed-minutes",
   "metadata": {
    "papermill": {
     "duration": 0.027339,
     "end_time": "2021-05-27T12:14:18.972101",
     "exception": false,
     "start_time": "2021-05-27T12:14:18.944762",
     "status": "completed"
    },
    "tags": []
   },
   "source": [
    "You should be able to see the dataset we will use for this Kaggle notebook under the \"Data\" tab on the right panel.\n",
    "\n",
    "Next, we import some of the common libraries needed for our task."
   ]
  },
  {
   "cell_type": "code",
   "execution_count": 1,
   "id": "assured-observation",
   "metadata": {
    "execution": {
     "iopub.execute_input": "2021-05-27T12:14:19.039856Z",
     "iopub.status.busy": "2021-05-27T12:14:19.039085Z",
     "iopub.status.idle": "2021-05-27T12:14:19.043695Z",
     "shell.execute_reply": "2021-05-27T12:14:19.042990Z",
     "shell.execute_reply.started": "2021-05-27T12:01:53.535764Z"
    },
    "papermill": {
     "duration": 0.045365,
     "end_time": "2021-05-27T12:14:19.043865",
     "exception": false,
     "start_time": "2021-05-27T12:14:18.998500",
     "status": "completed"
    },
    "tags": []
   },
   "outputs": [],
   "source": [
    "import pandas as pd\n",
    "import numpy as np\n",
    "import matplotlib.pyplot as plt\n",
    "%matplotlib inline"
   ]
  },
  {
   "cell_type": "markdown",
   "id": "separate-cleaner",
   "metadata": {
    "papermill": {
     "duration": 0.026765,
     "end_time": "2021-05-27T12:14:19.098019",
     "exception": false,
     "start_time": "2021-05-27T12:14:19.071254",
     "status": "completed"
    },
    "tags": []
   },
   "source": [
    "### Data Loading"
   ]
  },
  {
   "cell_type": "markdown",
   "id": "equal-forge",
   "metadata": {
    "papermill": {
     "duration": 0.025935,
     "end_time": "2021-05-27T12:14:19.150896",
     "exception": false,
     "start_time": "2021-05-27T12:14:19.124961",
     "status": "completed"
    },
    "tags": []
   },
   "source": [
    "For this task we will be using [NetworkX](https://networkx.github.io), a Python package for the creation, manipulation, and study of the structure, dynamics, and functions of complex networks. This package is applied to preprocess the original data. \n",
    "\n",
    "The dataset we will analyze is a snapshot of the Web Graph from the Google programming contest, 2002."
   ]
  },
  {
   "cell_type": "code",
   "execution_count": 2,
   "id": "therapeutic-saint",
   "metadata": {
    "execution": {
     "iopub.execute_input": "2021-05-27T12:14:19.209443Z",
     "iopub.status.busy": "2021-05-27T12:14:19.208729Z",
     "iopub.status.idle": "2021-05-27T12:14:58.101897Z",
     "shell.execute_reply": "2021-05-27T12:14:58.102419Z",
     "shell.execute_reply.started": "2021-05-27T12:01:53.553610Z"
    },
    "papermill": {
     "duration": 38.925053,
     "end_time": "2021-05-27T12:14:58.102605",
     "exception": false,
     "start_time": "2021-05-27T12:14:19.177552",
     "status": "completed"
    },
    "tags": []
   },
   "outputs": [
    {
     "name": "stdout",
     "output_type": "stream",
     "text": [
      "Name: \n",
      "Type: DiGraph\n",
      "Number of nodes: 875713\n",
      "Number of edges: 5105039\n",
      "Average in degree:   5.8296\n",
      "Average out degree:   5.8296\n"
     ]
    }
   ],
   "source": [
    "import networkx as nx\n",
    "\n",
    "G_tmp = nx.read_edgelist('../input/google-web-graph/web-Google.txt', create_using = nx.DiGraph)\n",
    "print(nx.info(G_tmp))"
   ]
  },
  {
   "cell_type": "markdown",
   "id": "valid-roommate",
   "metadata": {
    "papermill": {
     "duration": 0.026497,
     "end_time": "2021-05-27T12:14:58.155715",
     "exception": false,
     "start_time": "2021-05-27T12:14:58.129218",
     "status": "completed"
    },
    "tags": []
   },
   "source": [
    "To begin with, let's simplify our analysis by ignoring the dangling nodes and the disconnected components in the original graph.\n",
    "\n",
    "Use NetworkX to identify the **largest** weakly connected component in the ```G_tmp``` graph.  From now on, use the connected component ```G``` for all the following tasks."
   ]
  },
  {
   "cell_type": "code",
   "execution_count": 3,
   "id": "pressing-convertible",
   "metadata": {
    "execution": {
     "iopub.execute_input": "2021-05-27T12:14:58.214991Z",
     "iopub.status.busy": "2021-05-27T12:14:58.214024Z",
     "iopub.status.idle": "2021-05-27T12:15:57.278487Z",
     "shell.execute_reply": "2021-05-27T12:15:57.278973Z",
     "shell.execute_reply.started": "2021-05-27T12:02:29.937570Z"
    },
    "papermill": {
     "duration": 59.095922,
     "end_time": "2021-05-27T12:15:57.279157",
     "exception": false,
     "start_time": "2021-05-27T12:14:58.183235",
     "status": "completed"
    },
    "tags": []
   },
   "outputs": [
    {
     "name": "stdout",
     "output_type": "stream",
     "text": [
      "Name: \n",
      "Type: DiGraph\n",
      "Number of nodes: 855802\n",
      "Number of edges: 5066842\n",
      "Average in degree:   5.9206\n",
      "Average out degree:   5.9206\n"
     ]
    }
   ],
   "source": [
    "# # The simplest method, but not available in Kaggle environment.\n",
    "# G = max(nx.weakly_connected_components(G_tmp), key=len) \n",
    "\n",
    "# The alternate method\n",
    "c = sorted(nx.weakly_connected_components(G_tmp), key=len, reverse=True)\n",
    "wcc_set = c[0]\n",
    "G = G_tmp.subgraph(wcc_set)\n",
    "print(nx.info(G))"
   ]
  },
  {
   "cell_type": "markdown",
   "id": "neutral-natural",
   "metadata": {
    "papermill": {
     "duration": 0.026664,
     "end_time": "2021-05-27T12:15:57.332691",
     "exception": false,
     "start_time": "2021-05-27T12:15:57.306027",
     "status": "completed"
    },
    "tags": []
   },
   "source": [
    "### Your Task"
   ]
  },
  {
   "cell_type": "markdown",
   "id": "disciplinary-participation",
   "metadata": {
    "papermill": {
     "duration": 0.02644,
     "end_time": "2021-05-27T12:15:57.386078",
     "exception": false,
     "start_time": "2021-05-27T12:15:57.359638",
     "status": "completed"
    },
    "tags": []
   },
   "source": [
    "Compute the PageRank vector, using the existing NetworkX graph object ```G```.\n",
    "\n",
    "The teleport probability is 0.15 (that is, each step is about to jump to some random node with probability 0.15).\n",
    "\n",
    "You can validate your result via the ```pagerank``` function with default parameters in NetworkX: [https://networkx.github.io/documentation/stable/reference/algorithms/generated/networkx.algorithms.link_analysis.pagerank_alg.pagerank.html#networkx.algorithms.link_analysis.pagerank_alg.pageranky](https://networkx.github.io/documentation/stable/reference/algorithms/generated/networkx.algorithms.link_analysis.pagerank_alg.pagerank.html#networkx.algorithms.link_analysis.pagerank_alg.pagerank)\n",
    "But **do not** use it in your own work."
   ]
  },
  {
   "cell_type": "code",
   "execution_count": 4,
   "id": "serial-plain",
   "metadata": {
    "execution": {
     "iopub.execute_input": "2021-05-27T12:15:57.566465Z",
     "iopub.status.busy": "2021-05-27T12:15:57.561171Z",
     "iopub.status.idle": "2021-05-27T12:16:35.452677Z",
     "shell.execute_reply": "2021-05-27T12:16:35.451964Z",
     "shell.execute_reply.started": "2021-05-27T12:03:26.993904Z"
    },
    "papermill": {
     "duration": 38.0398,
     "end_time": "2021-05-27T12:16:35.452865",
     "exception": false,
     "start_time": "2021-05-27T12:15:57.413065",
     "status": "completed"
    },
    "tags": []
   },
   "outputs": [],
   "source": [
    "#nx.pagerank(G)\n",
    "#init\n",
    "rank={}\n",
    "rank_pre={}\n",
    "page_info={}\n",
    "out_degree={}\n",
    "\n",
    "node_num=len(G.nodes())\n",
    "init_value=1.0/node_num\n",
    "\n",
    "for node in G.nodes():\n",
    "    rank[node]=init_value\n",
    "    rank_pre[node]=init_value\n",
    "    page_info[node]=[]\n",
    "    out_degree[node]=G.out_degree(node)\n",
    "\n",
    "# a dict,key for nodes,value for a list of in-edges\n",
    "for k,v in G.edges():\n",
    "    page_info[v].append(k)"
   ]
  },
  {
   "cell_type": "code",
   "execution_count": 5,
   "id": "ranking-webster",
   "metadata": {
    "execution": {
     "iopub.execute_input": "2021-05-27T12:16:35.612961Z",
     "iopub.status.busy": "2021-05-27T12:16:35.607580Z",
     "iopub.status.idle": "2021-05-27T12:16:45.366117Z",
     "shell.execute_reply": "2021-05-27T12:16:45.365290Z",
     "shell.execute_reply.started": "2021-05-27T12:04:03.518924Z"
    },
    "papermill": {
     "duration": 9.884735,
     "end_time": "2021-05-27T12:16:45.366286",
     "exception": false,
     "start_time": "2021-05-27T12:16:35.481551",
     "status": "completed"
    },
    "tags": []
   },
   "outputs": [],
   "source": [
    "# calculate error\n",
    "def error(rank,rank_pre):\n",
    "    err = sum([abs(rank[n] - rank_pre[n]) for n in rank])\n",
    "    return err\n",
    "\n",
    "# pagerank\n",
    "def ranksum(node,page_info,rank_pre):\n",
    "    sum=0\n",
    "    for x in page_info[node]:\n",
    "        sum+=rank_pre[x]/out_degree[x]\n",
    "    return sum\n",
    "\n",
    "#iter\n",
    "err=1\n",
    "while(err>node_num*1e-6):\n",
    "    rank_pre=rank.copy()\n",
    "    for node in G.nodes():\n",
    "        rank[node]=(1-0.85)/node_num + 0.85 * ranksum(node,page_info,rank_pre)\n",
    "    err=error(rank,rank_pre)"
   ]
  },
  {
   "cell_type": "code",
   "execution_count": 6,
   "id": "photographic-observer",
   "metadata": {
    "execution": {
     "iopub.execute_input": "2021-05-27T12:16:45.465660Z",
     "iopub.status.busy": "2021-05-27T12:16:45.429232Z",
     "iopub.status.idle": "2021-05-27T12:18:22.944800Z",
     "shell.execute_reply": "2021-05-27T12:18:22.945299Z",
     "shell.execute_reply.started": "2021-05-27T12:04:12.598597Z"
    },
    "papermill": {
     "duration": 97.551658,
     "end_time": "2021-05-27T12:18:22.945543",
     "exception": false,
     "start_time": "2021-05-27T12:16:45.393885",
     "status": "completed"
    },
    "tags": []
   },
   "outputs": [],
   "source": [
    "rank_comp=nx.pagerank(G,tol=1e-6)"
   ]
  },
  {
   "cell_type": "code",
   "execution_count": 7,
   "id": "exterior-thong",
   "metadata": {
    "execution": {
     "iopub.execute_input": "2021-05-27T12:18:23.176044Z",
     "iopub.status.busy": "2021-05-27T12:18:23.150022Z",
     "iopub.status.idle": "2021-05-27T12:18:23.990569Z",
     "shell.execute_reply": "2021-05-27T12:18:23.989971Z",
     "shell.execute_reply.started": "2021-05-27T12:05:45.645007Z"
    },
    "papermill": {
     "duration": 1.017955,
     "end_time": "2021-05-27T12:18:23.990729",
     "exception": false,
     "start_time": "2021-05-27T12:18:22.972774",
     "status": "completed"
    },
    "tags": []
   },
   "outputs": [
    {
     "name": "stdout",
     "output_type": "stream",
     "text": [
      "[('163075', 0.0008010119732854166), ('837478', 0.0007902223392015811), ('597621', 0.0007743519727616661), ('537039', 0.0007627350670247663), ('885605', 0.0007198393665046458)]\n",
      "[('163075', 0.0009696116711473416), ('597621', 0.0009183654689187565), ('537039', 0.0009120917241781728), ('837478', 0.0008936946957973367), ('885605', 0.0008374772777914541)]\n"
     ]
    }
   ],
   "source": [
    "rank1 = sorted(rank.items(), key=lambda x: x[1], reverse=True)\n",
    "rank2 = sorted(rank_comp.items(), key=lambda x: x[1], reverse=True)\n",
    "print(rank1[:5])\n",
    "print(rank2[:5])\n",
    "# Basically the result is similar. The reason for differences is that \n",
    "# nx.pagerank considers dangling while mine does not."
   ]
  },
  {
   "cell_type": "markdown",
   "id": "revised-footwear",
   "metadata": {
    "papermill": {
     "duration": 0.027913,
     "end_time": "2021-05-27T12:18:24.046914",
     "exception": false,
     "start_time": "2021-05-27T12:18:24.019001",
     "status": "completed"
    },
    "tags": []
   },
   "source": [
    "### Node2Vec"
   ]
  },
  {
   "cell_type": "markdown",
   "id": "upper-methodology",
   "metadata": {
    "papermill": {
     "duration": 0.028047,
     "end_time": "2021-05-27T12:18:24.102445",
     "exception": false,
     "start_time": "2021-05-27T12:18:24.074398",
     "status": "completed"
    },
    "tags": []
   },
   "source": [
    "[Node2Vec](https://dl.acm.org/doi/abs/10.1145/2939672.2939754) is a random-walk based network embedding method, It proposes a biased random walk procedure, which efficiently explores diverse neighborhoods. The generated embeddings can be used for downstream tasks such as node classification, clustering, and community detection."
   ]
  },
  {
   "cell_type": "markdown",
   "id": "reflected-tooth",
   "metadata": {
    "papermill": {
     "duration": 0.026778,
     "end_time": "2021-05-27T12:18:24.156582",
     "exception": false,
     "start_time": "2021-05-27T12:18:24.129804",
     "status": "completed"
    },
    "tags": []
   },
   "source": [
    "### Setup"
   ]
  },
  {
   "cell_type": "markdown",
   "id": "realistic-spirituality",
   "metadata": {
    "papermill": {
     "duration": 0.026909,
     "end_time": "2021-05-27T12:18:24.210711",
     "exception": false,
     "start_time": "2021-05-27T12:18:24.183802",
     "status": "completed"
    },
    "tags": []
   },
   "source": [
    "First of all, we install the [nodevectors library](https://github.com/VHRanger/nodevectors) which offers a fast implementation of the node2vec method.\n",
    "\n",
    "If you are curious to learn how to implement fast random walks on graphs, you are recommanded to read [the blog post](https://www.singlelunch.com/2019/08/01/700x-faster-node2vec-models-fastest-random-walks-on-a-graph/) which explains some of the design choices behind this library."
   ]
  },
  {
   "cell_type": "code",
   "execution_count": 8,
   "id": "complicated-dating",
   "metadata": {
    "execution": {
     "iopub.execute_input": "2021-05-27T12:18:24.271067Z",
     "iopub.status.busy": "2021-05-27T12:18:24.270317Z",
     "iopub.status.idle": "2021-05-27T12:19:11.670299Z",
     "shell.execute_reply": "2021-05-27T12:19:11.669609Z",
     "shell.execute_reply.started": "2021-05-27T12:05:46.665710Z"
    },
    "papermill": {
     "duration": 47.43264,
     "end_time": "2021-05-27T12:19:11.670479",
     "exception": false,
     "start_time": "2021-05-27T12:18:24.237839",
     "status": "completed"
    },
    "tags": []
   },
   "outputs": [
    {
     "name": "stdout",
     "output_type": "stream",
     "text": [
      "Collecting gensim==3.6.0\r\n",
      "  Downloading gensim-3.6.0.tar.gz (23.1 MB)\r\n",
      "\u001b[K     |████████████████████████████████| 23.1 MB 22.8 MB/s \r\n",
      "\u001b[?25hRequirement already satisfied: numpy>=1.11.3 in /opt/conda/lib/python3.7/site-packages (from gensim==3.6.0) (1.19.5)\r\n",
      "Requirement already satisfied: scipy>=0.18.1 in /opt/conda/lib/python3.7/site-packages (from gensim==3.6.0) (1.5.4)\r\n",
      "Requirement already satisfied: six>=1.5.0 in /opt/conda/lib/python3.7/site-packages (from gensim==3.6.0) (1.15.0)\r\n",
      "Requirement already satisfied: smart_open>=1.2.1 in /opt/conda/lib/python3.7/site-packages (from gensim==3.6.0) (5.0.0)\r\n",
      "Building wheels for collected packages: gensim\r\n",
      "  Building wheel for gensim (setup.py) ... \u001b[?25l-\b \b\\\b \b|\b \b/\b \b-\b \b\\\b \b|\b \b/\b \b-\b \b\\\b \b|\b \b/\b \b-\b \b\\\b \b|\b \b/\b \b-\b \b\\\b \b|\b \b/\b \b-\b \b\\\b \b|\b \b/\b \b-\b \b\\\b \b|\b \b/\b \b-\b \b\\\b \b|\b \b/\b \b-\b \bdone\r\n",
      "\u001b[?25h  Created wheel for gensim: filename=gensim-3.6.0-cp37-cp37m-linux_x86_64.whl size=24239062 sha256=f4e49f9e3311ca12f277e99efa9728f1bad5212aafb8c116203e313e17582957\r\n",
      "  Stored in directory: /root/.cache/pip/wheels/53/c8/f9/afb722099bdb5d73e5807019ce1512fd065502ccc15ea2b5bd\r\n",
      "Successfully built gensim\r\n",
      "Installing collected packages: gensim\r\n",
      "  Attempting uninstall: gensim\r\n",
      "    Found existing installation: gensim 4.0.1\r\n",
      "    Uninstalling gensim-4.0.1:\r\n",
      "      Successfully uninstalled gensim-4.0.1\r\n",
      "\u001b[31mERROR: pip's dependency resolver does not currently take into account all the packages that are installed. This behaviour is the source of the following dependency conflicts.\r\n",
      "pyldavis 3.3.1 requires numpy>=1.20.0, but you have numpy 1.19.5 which is incompatible.\u001b[0m\r\n",
      "Successfully installed gensim-3.6.0\r\n",
      "Collecting nodevectors\r\n",
      "  Downloading nodevectors-0.1.23.tar.gz (15 kB)\r\n",
      "Collecting csrgraph\r\n",
      "  Downloading csrgraph-0.1.28.tar.gz (14 kB)\r\n",
      "Requirement already satisfied: gensim in /opt/conda/lib/python3.7/site-packages (from nodevectors) (3.6.0)\r\n",
      "Requirement already satisfied: networkx in /opt/conda/lib/python3.7/site-packages (from nodevectors) (2.5)\r\n",
      "Requirement already satisfied: numba in /opt/conda/lib/python3.7/site-packages (from nodevectors) (0.53.1)\r\n",
      "Requirement already satisfied: numpy in /opt/conda/lib/python3.7/site-packages (from nodevectors) (1.19.5)\r\n",
      "Requirement already satisfied: pandas>=1.0 in /opt/conda/lib/python3.7/site-packages (from nodevectors) (1.2.3)\r\n",
      "Requirement already satisfied: scipy in /opt/conda/lib/python3.7/site-packages (from nodevectors) (1.5.4)\r\n",
      "Requirement already satisfied: scikit-learn in /opt/conda/lib/python3.7/site-packages (from nodevectors) (0.24.1)\r\n",
      "Requirement already satisfied: python-dateutil>=2.7.3 in /opt/conda/lib/python3.7/site-packages (from pandas>=1.0->nodevectors) (2.8.1)\r\n",
      "Requirement already satisfied: pytz>=2017.3 in /opt/conda/lib/python3.7/site-packages (from pandas>=1.0->nodevectors) (2021.1)\r\n",
      "Requirement already satisfied: six>=1.5 in /opt/conda/lib/python3.7/site-packages (from python-dateutil>=2.7.3->pandas>=1.0->nodevectors) (1.15.0)\r\n",
      "Requirement already satisfied: tqdm in /opt/conda/lib/python3.7/site-packages (from csrgraph->nodevectors) (4.59.0)\r\n",
      "Requirement already satisfied: smart-open>=1.2.1 in /opt/conda/lib/python3.7/site-packages (from gensim->nodevectors) (5.0.0)\r\n",
      "Requirement already satisfied: decorator>=4.3.0 in /opt/conda/lib/python3.7/site-packages (from networkx->nodevectors) (4.4.2)\r\n",
      "Requirement already satisfied: llvmlite<0.37,>=0.36.0rc1 in /opt/conda/lib/python3.7/site-packages (from numba->nodevectors) (0.36.0)\r\n",
      "Requirement already satisfied: setuptools in /opt/conda/lib/python3.7/site-packages (from numba->nodevectors) (49.6.0.post20210108)\r\n",
      "Requirement already satisfied: joblib>=0.11 in /opt/conda/lib/python3.7/site-packages (from scikit-learn->nodevectors) (1.0.1)\r\n",
      "Requirement already satisfied: threadpoolctl>=2.0.0 in /opt/conda/lib/python3.7/site-packages (from scikit-learn->nodevectors) (2.1.0)\r\n",
      "Building wheels for collected packages: nodevectors, csrgraph\r\n",
      "  Building wheel for nodevectors (setup.py) ... \u001b[?25l-\b \b\\\b \bdone\r\n",
      "\u001b[?25h  Created wheel for nodevectors: filename=nodevectors-0.1.23-py3-none-any.whl size=17959 sha256=de35bd91772d9b597aff6c11970e49a88d0b3871f815ab71b1e15be06e44abee\r\n",
      "  Stored in directory: /root/.cache/pip/wheels/6e/6a/11/ac8620f101db6248c3cd436636eb17f6f7430cd1ac3a3068dc\r\n",
      "  Building wheel for csrgraph (setup.py) ... \u001b[?25l-\b \b\\\b \bdone\r\n",
      "\u001b[?25h  Created wheel for csrgraph: filename=csrgraph-0.1.28-py3-none-any.whl size=17642 sha256=ed615858b96efaf42a7ac7529e29ff4a6ef8a670bbc77933add25e5afbe851b0\r\n",
      "  Stored in directory: /root/.cache/pip/wheels/3d/0a/58/36a63805f1cd719cbcc5a3c4c109604985a809e7d81bac1649\r\n",
      "Successfully built nodevectors csrgraph\r\n",
      "Installing collected packages: csrgraph, nodevectors\r\n",
      "Successfully installed csrgraph-0.1.28 nodevectors-0.1.23\r\n"
     ]
    }
   ],
   "source": [
    "# Due to the significant internal refactoring of gensim 4.0.0, we need to degrade it for consistency\n",
    "!pip install gensim==3.6.0\n",
    "!pip install nodevectors\n"
   ]
  },
  {
   "cell_type": "markdown",
   "id": "discrete-vector",
   "metadata": {
    "papermill": {
     "duration": 0.063528,
     "end_time": "2021-05-27T12:19:11.798941",
     "exception": false,
     "start_time": "2021-05-27T12:19:11.735413",
     "status": "completed"
    },
    "tags": []
   },
   "source": [
    "We now import the library, and create a small wrapper class which will expose only the few hyperparameters we may need to tune in this task."
   ]
  },
  {
   "cell_type": "code",
   "execution_count": 9,
   "id": "executed-brick",
   "metadata": {
    "execution": {
     "iopub.execute_input": "2021-05-27T12:19:11.939140Z",
     "iopub.status.busy": "2021-05-27T12:19:11.938360Z",
     "iopub.status.idle": "2021-05-27T12:19:13.590519Z",
     "shell.execute_reply": "2021-05-27T12:19:13.589778Z",
     "shell.execute_reply.started": "2021-05-27T12:06:32.100553Z"
    },
    "papermill": {
     "duration": 1.727867,
     "end_time": "2021-05-27T12:19:13.590685",
     "exception": false,
     "start_time": "2021-05-27T12:19:11.862818",
     "status": "completed"
    },
    "tags": []
   },
   "outputs": [],
   "source": [
    "# Common libraries may be used\n",
    "import pandas as pd\n",
    "import numpy as np\n",
    "import matplotlib.pyplot as plt\n",
    "import sklearn\n",
    "%matplotlib inline\n",
    "\n",
    "# Libaries for graph processing\n",
    "import nodevectors\n",
    "import networkx as nx\n",
    "\n",
    "class Node2Vec(nodevectors.Node2Vec):\n",
    "    \"\"\"\n",
    "    Parameters\n",
    "    ----------\n",
    "    p : float\n",
    "        p parameter of node2vec\n",
    "    q : float\n",
    "        q parameter of node2vec\n",
    "    d : int\n",
    "        dimensionality of the embedding vectors\n",
    "    w : int\n",
    "        length of each truncated random walk\n",
    "    \"\"\"\n",
    "    def __init__(self, p = 1, q = 1,d = 32, w = 10):\n",
    "        super().__init__(\n",
    "                    n_components = d,\n",
    "                    walklen = w,\n",
    "                    epochs = 50,\n",
    "                    return_weight = 1.0 / p,\n",
    "                    neighbor_weight = 1.0 / q,\n",
    "                    threads = 0,\n",
    "                    w2vparams = {'window': 4,\n",
    "                                'negative': 5, \n",
    "                                'iter': 10,\n",
    "                                'ns_exponent': 0.5,\n",
    "                                'batch_words': 128})"
   ]
  },
  {
   "cell_type": "markdown",
   "id": "vietnamese-planning",
   "metadata": {
    "papermill": {
     "duration": 0.065193,
     "end_time": "2021-05-27T12:19:13.720376",
     "exception": false,
     "start_time": "2021-05-27T12:19:13.655183",
     "status": "completed"
    },
    "tags": []
   },
   "source": [
    "### Example"
   ]
  },
  {
   "cell_type": "markdown",
   "id": "specialized-michigan",
   "metadata": {
    "papermill": {
     "duration": 0.064039,
     "end_time": "2021-05-27T12:19:13.848778",
     "exception": false,
     "start_time": "2021-05-27T12:19:13.784739",
     "status": "completed"
    },
    "tags": []
   },
   "source": [
    "Now we will study the behavior of node2vec on [barbell graphs](https://en.wikipedia.org/wiki/Barbell_graph).\n",
    "\n",
    "Below you can see a toy example of a barbell graph generated with NetworkX."
   ]
  },
  {
   "cell_type": "code",
   "execution_count": 10,
   "id": "threatened-procedure",
   "metadata": {
    "execution": {
     "iopub.execute_input": "2021-05-27T12:19:13.988668Z",
     "iopub.status.busy": "2021-05-27T12:19:13.984564Z",
     "iopub.status.idle": "2021-05-27T12:19:14.117244Z",
     "shell.execute_reply": "2021-05-27T12:19:14.116679Z",
     "shell.execute_reply.started": "2021-05-27T12:06:34.006923Z"
    },
    "papermill": {
     "duration": 0.204582,
     "end_time": "2021-05-27T12:19:14.117432",
     "exception": false,
     "start_time": "2021-05-27T12:19:13.912850",
     "status": "completed"
    },
    "tags": []
   },
   "outputs": [
    {
     "data": {
      "image/png": "[encoded data removed]",
      "text/plain": [
       "<Figure size 432x288 with 1 Axes>"
      ]
     },
     "metadata": {},
     "output_type": "display_data"
    }
   ],
   "source": [
    "# A toy example, not for your task\n",
    "toy_barbell = nx.barbell_graph(7, 2)\n",
    "nx.draw_kamada_kawai(toy_barbell)"
   ]
  },
  {
   "cell_type": "markdown",
   "id": "coordinated-montgomery",
   "metadata": {
    "papermill": {
     "duration": 0.064726,
     "end_time": "2021-05-27T12:19:14.247106",
     "exception": false,
     "start_time": "2021-05-27T12:19:14.182380",
     "status": "completed"
    },
    "tags": []
   },
   "source": [
    "We can embed the nodes into 2-dimensional vectors using ```node2vec```, the example code is as follows:"
   ]
  },
  {
   "cell_type": "code",
   "execution_count": 11,
   "id": "valued-bryan",
   "metadata": {
    "execution": {
     "iopub.execute_input": "2021-05-27T12:19:14.392888Z",
     "iopub.status.busy": "2021-05-27T12:19:14.391254Z",
     "iopub.status.idle": "2021-05-27T12:19:17.640353Z",
     "shell.execute_reply": "2021-05-27T12:19:17.639735Z",
     "shell.execute_reply.started": "2021-05-27T12:06:34.161125Z"
    },
    "papermill": {
     "duration": 3.328418,
     "end_time": "2021-05-27T12:19:17.640523",
     "exception": false,
     "start_time": "2021-05-27T12:19:14.312105",
     "status": "completed"
    },
    "tags": []
   },
   "outputs": [
    {
     "name": "stdout",
     "output_type": "stream",
     "text": [
      "Making walks... Done, T=2.98\n",
      "Mapping Walk Names... Done, T=0.04\n",
      "Training W2V... Done, T=0.22\n"
     ]
    }
   ],
   "source": [
    "# Use Node2Vec class to embed nodes\n",
    "n2v = Node2Vec(p = 1, q = 1, d = 2)\n",
    "n2v.fit(toy_barbell)\n",
    "embeddings = []\n",
    "for node in toy_barbell.nodes:\n",
    "    embeddings.append(list(n2v.predict(node)))   "
   ]
  },
  {
   "cell_type": "code",
   "execution_count": 12,
   "id": "terminal-alert",
   "metadata": {
    "execution": {
     "iopub.execute_input": "2021-05-27T12:19:17.787637Z",
     "iopub.status.busy": "2021-05-27T12:19:17.786210Z",
     "iopub.status.idle": "2021-05-27T12:19:17.973964Z",
     "shell.execute_reply": "2021-05-27T12:19:17.973286Z",
     "shell.execute_reply.started": "2021-05-27T12:06:37.512185Z"
    },
    "papermill": {
     "duration": 0.26458,
     "end_time": "2021-05-27T12:19:17.974118",
     "exception": false,
     "start_time": "2021-05-27T12:19:17.709538",
     "status": "completed"
    },
    "tags": []
   },
   "outputs": [
    {
     "data": {
      "text/plain": [
       "<AxesSubplot:xlabel='x', ylabel='y'>"
      ]
     },
     "execution_count": 12,
     "metadata": {},
     "output_type": "execute_result"
    },
    {
     "data": {
      "image/png": "[encoded data removed]",
      "text/plain": [
       "<Figure size 432x288 with 1 Axes>"
      ]
     },
     "metadata": {
      "needs_background": "light"
     },
     "output_type": "display_data"
    }
   ],
   "source": [
    "# Construct a pandas dataframe with the 2D embeddings from node2vec.\n",
    "# We can easily divide the nodes into two clusters, and the groudtruth is denoted by distinct colors.\n",
    "toy_colors = ['red'] * 8 + ['blue'] * 8\n",
    "df = pd.DataFrame(embeddings, columns = ['x', 'y']) # Create pandas dataframe from the list of node embeddings\n",
    "df.plot.scatter(x = 'x', y = 'y', c = toy_colors)"
   ]
  },
  {
   "cell_type": "markdown",
   "id": "neutral-orbit",
   "metadata": {
    "papermill": {
     "duration": 0.067937,
     "end_time": "2021-05-27T12:19:18.109169",
     "exception": false,
     "start_time": "2021-05-27T12:19:18.041232",
     "status": "completed"
    },
    "tags": []
   },
   "source": [
    "Then we can visualize the 2-dimensional embeddings through a scatter plot. If our example is trained correctly, you should notice two distinct clusters (one with red color, the other with blue). This is a naive example showing the graph structure feature extraction capability of node2vec.\n",
    "\n",
    "You can tune the hyperparameters ```p```, ```q``` and ```w```, and notice how they affect the resulting embeddings."
   ]
  },
  {
   "cell_type": "markdown",
   "id": "prerequisite-divide",
   "metadata": {
    "papermill": {
     "duration": 0.066849,
     "end_time": "2021-05-27T12:19:18.243146",
     "exception": false,
     "start_time": "2021-05-27T12:19:18.176297",
     "status": "completed"
    },
    "tags": []
   },
   "source": [
    "### Your Task"
   ]
  },
  {
   "cell_type": "markdown",
   "id": "lesser-athletics",
   "metadata": {
    "papermill": {
     "duration": 0.066403,
     "end_time": "2021-05-27T12:19:18.376378",
     "exception": false,
     "start_time": "2021-05-27T12:19:18.309975",
     "status": "completed"
    },
    "tags": []
   },
   "source": [
    "Here is a larger barbell graph, where each complete graph has exactly 1000 nodes, and the path length between the complete graphs is equal to 1 (i.e., all the nodes in the barbell graph belong to either one of the two complete graphs, and the connecting path does not have any internal node).\n",
    "\n",
    "Then, you need to learn node2vec embeddings on this graph, setting ```p = 1, q = 1, d = 10``` and ```w = 10```."
   ]
  },
  {
   "cell_type": "code",
   "execution_count": 13,
   "id": "destroyed-joseph",
   "metadata": {
    "execution": {
     "iopub.execute_input": "2021-05-27T12:19:18.535369Z",
     "iopub.status.busy": "2021-05-27T12:19:18.529990Z",
     "iopub.status.idle": "2021-05-27T12:19:20.364677Z",
     "shell.execute_reply": "2021-05-27T12:19:20.364099Z",
     "shell.execute_reply.started": "2021-05-27T12:06:37.699440Z"
    },
    "papermill": {
     "duration": 1.921218,
     "end_time": "2021-05-27T12:19:20.364841",
     "exception": false,
     "start_time": "2021-05-27T12:19:18.443623",
     "status": "completed"
    },
    "tags": []
   },
   "outputs": [],
   "source": [
    "# A barbell graph for your task 2.1\n",
    "barbell_1 = nx.barbell_graph(1000, 0)"
   ]
  },
  {
   "cell_type": "code",
   "execution_count": 14,
   "id": "disciplinary-addiction",
   "metadata": {
    "execution": {
     "iopub.execute_input": "2021-05-27T12:19:20.544323Z",
     "iopub.status.busy": "2021-05-27T12:19:20.539063Z",
     "iopub.status.idle": "2021-05-27T12:20:06.223462Z",
     "shell.execute_reply": "2021-05-27T12:20:06.223962Z",
     "shell.execute_reply.started": "2021-05-27T12:06:39.477029Z"
    },
    "papermill": {
     "duration": 45.791994,
     "end_time": "2021-05-27T12:20:06.224133",
     "exception": false,
     "start_time": "2021-05-27T12:19:20.432139",
     "status": "completed"
    },
    "tags": []
   },
   "outputs": [
    {
     "name": "stdout",
     "output_type": "stream",
     "text": [
      "Making walks... Done, T=0.59\n",
      "Mapping Walk Names... Done, T=1.71\n",
      "Training W2V... Done, T=37.49\n"
     ]
    }
   ],
   "source": [
    "# Node2Vec\n",
    "n2v1 = Node2Vec(p = 1, q = 1, d = 10)\n",
    "n2v1.fit(barbell_1)\n",
    "embeddings1 = []\n",
    "for node in barbell_1.nodes:\n",
    "    embeddings1.append(list(n2v1.predict(node)))   "
   ]
  },
  {
   "cell_type": "markdown",
   "id": "pressed-briefing",
   "metadata": {
    "papermill": {
     "duration": 0.068754,
     "end_time": "2021-05-27T12:20:06.360818",
     "exception": false,
     "start_time": "2021-05-27T12:20:06.292064",
     "status": "completed"
    },
    "tags": []
   },
   "source": [
    "Write a function that takes as input a node id ```n``` in the graph (e.g., ```5```) and returns a list containining the [cosine similarity](https://en.wikipedia.org/wiki/Cosine_similarity) between the node2vec vector of the input node ```n``` and all the nodes in the given barbell graph (including the similarity with ```n``` itself). You can choose a specific node and output your results."
   ]
  },
  {
   "cell_type": "code",
   "execution_count": 15,
   "id": "decreased-round",
   "metadata": {
    "execution": {
     "iopub.execute_input": "2021-05-27T12:20:06.501062Z",
     "iopub.status.busy": "2021-05-27T12:20:06.500416Z",
     "iopub.status.idle": "2021-05-27T12:20:06.513359Z",
     "shell.execute_reply": "2021-05-27T12:20:06.512619Z",
     "shell.execute_reply.started": "2021-05-27T12:07:19.974829Z"
    },
    "papermill": {
     "duration": 0.084567,
     "end_time": "2021-05-27T12:20:06.513531",
     "exception": false,
     "start_time": "2021-05-27T12:20:06.428964",
     "status": "completed"
    },
    "tags": []
   },
   "outputs": [],
   "source": [
    "# cosine similarity\n",
    "from sklearn.metrics.pairwise import cosine_similarity\n",
    "mat=np.mat(embeddings1)\n",
    "def cosine_sim(n):\n",
    "    sim=cosine_similarity(mat)\n",
    "    return sim[n]"
   ]
  },
  {
   "cell_type": "code",
   "execution_count": 16,
   "id": "funded-proof",
   "metadata": {
    "execution": {
     "iopub.execute_input": "2021-05-27T12:20:06.659945Z",
     "iopub.status.busy": "2021-05-27T12:20:06.658699Z",
     "iopub.status.idle": "2021-05-27T12:20:06.678533Z",
     "shell.execute_reply": "2021-05-27T12:20:06.679384Z",
     "shell.execute_reply.started": "2021-05-27T12:07:19.988306Z"
    },
    "papermill": {
     "duration": 0.097394,
     "end_time": "2021-05-27T12:20:06.679692",
     "exception": false,
     "start_time": "2021-05-27T12:20:06.582298",
     "status": "completed"
    },
    "tags": []
   },
   "outputs": [
    {
     "name": "stdout",
     "output_type": "stream",
     "text": [
      "[0.9611651  0.95622236 0.9783985  0.95879185 0.9679452 ]\n",
      "[0.14001755 0.10308899 0.10863584 0.13421488 0.12637605]\n"
     ]
    }
   ],
   "source": [
    "# Node 5 has a higher similarity with the front nodes, and lower with latter ones.\n",
    "sim=cosine_sim(5)\n",
    "print(sim[0:5])\n",
    "print(sim[-5:])"
   ]
  },
  {
   "cell_type": "markdown",
   "id": "material-ebony",
   "metadata": {
    "papermill": {
     "duration": 0.068321,
     "end_time": "2021-05-27T12:20:06.864926",
     "exception": false,
     "start_time": "2021-05-27T12:20:06.796605",
     "status": "completed"
    },
    "tags": []
   },
   "source": [
    "Then we generate another barbell graph, this time adding a path of length ```51``` between the two complete graphs. To find out how, refer to the NetworkX documentation: https://networkx.github.io/documentation/stable/reference/generated/networkx.generators.classic.barbell_graph.html#networkx.generators.classic.barbell_graph\n",
    "\n",
    "You need to learn the node2vec embeddings for the nodes of this new graph, and tune the hyperparameters to get two distinct clusters in the scatter plot. Since the scatter plot only visualize 2-dimensional vectors, if you set ```d >= 3```, you may need some additional dimensionality reduction methods (e.g., [PCA](https://blog.paperspace.com/dimension-reduction-with-principal-component-analysis/), [MDS](https://blog.paperspace.com/dimension-reduction-with-multi-dimension-scaling/) and [t-SNE](https://www.jmlr.org/papers/volume9/vandermaaten08a/vandermaaten08a.pdf?fbclid=IwAR0Bgg1eA5TFmqOZeCQXsIoL6PKrVXUFaskUKtg6yBhVXAFFvZA6yQiYx-M)) to generate visual results. See [t-SNE in sklearn library](https://scikit-learn.org/stable/modules/generated/sklearn.manifold.TSNE.html) for applying t-SNE."
   ]
  },
  {
   "cell_type": "code",
   "execution_count": 17,
   "id": "conceptual-requirement",
   "metadata": {
    "execution": {
     "iopub.execute_input": "2021-05-27T12:20:07.021882Z",
     "iopub.status.busy": "2021-05-27T12:20:07.016842Z",
     "iopub.status.idle": "2021-05-27T12:20:08.763128Z",
     "shell.execute_reply": "2021-05-27T12:20:08.762567Z",
     "shell.execute_reply.started": "2021-05-27T12:07:20.027637Z"
    },
    "papermill": {
     "duration": 1.829141,
     "end_time": "2021-05-27T12:20:08.763312",
     "exception": false,
     "start_time": "2021-05-27T12:20:06.934171",
     "status": "completed"
    },
    "tags": []
   },
   "outputs": [],
   "source": [
    "# A barbell graph for your task 2.2\n",
    "barbell_2 = nx.barbell_graph(1000, 50)"
   ]
  },
  {
   "cell_type": "code",
   "execution_count": 18,
   "id": "split-motion",
   "metadata": {
    "execution": {
     "iopub.execute_input": "2021-05-27T12:20:08.935972Z",
     "iopub.status.busy": "2021-05-27T12:20:08.909863Z",
     "iopub.status.idle": "2021-05-27T12:20:57.616903Z",
     "shell.execute_reply": "2021-05-27T12:20:57.617828Z",
     "shell.execute_reply.started": "2021-05-27T12:07:21.849405Z"
    },
    "papermill": {
     "duration": 48.785385,
     "end_time": "2021-05-27T12:20:57.618140",
     "exception": false,
     "start_time": "2021-05-27T12:20:08.832755",
     "status": "completed"
    },
    "tags": []
   },
   "outputs": [
    {
     "name": "stdout",
     "output_type": "stream",
     "text": [
      "Making walks... Done, T=0.56\n",
      "Mapping Walk Names... Done, T=4.14\n",
      "Training W2V... Done, T=38.34\n"
     ]
    }
   ],
   "source": [
    "# Learning the embeddings\n",
    "n2v2 = Node2Vec(p = 1, q = 1, d = 10)\n",
    "n2v2.fit(barbell_2)\n",
    "embeddings2 = []\n",
    "for node in barbell_2.nodes:\n",
    "    embeddings2.append(list(n2v2.predict(node)))   "
   ]
  },
  {
   "cell_type": "code",
   "execution_count": 19,
   "id": "national-flesh",
   "metadata": {
    "execution": {
     "iopub.execute_input": "2021-05-27T12:20:57.771976Z",
     "iopub.status.busy": "2021-05-27T12:20:57.771212Z",
     "iopub.status.idle": "2021-05-27T12:21:10.087142Z",
     "shell.execute_reply": "2021-05-27T12:21:10.087734Z",
     "shell.execute_reply.started": "2021-05-27T12:08:06.208721Z"
    },
    "papermill": {
     "duration": 12.395262,
     "end_time": "2021-05-27T12:21:10.087935",
     "exception": false,
     "start_time": "2021-05-27T12:20:57.692673",
     "status": "completed"
    },
    "tags": []
   },
   "outputs": [],
   "source": [
    "# T-SNE for dimensionally reduction\n",
    "from sklearn.manifold import TSNE\n",
    "X_embedded = TSNE(n_components=2).fit_transform(embeddings2)"
   ]
  },
  {
   "cell_type": "code",
   "execution_count": 20,
   "id": "occasional-abuse",
   "metadata": {
    "execution": {
     "iopub.execute_input": "2021-05-27T12:21:10.235815Z",
     "iopub.status.busy": "2021-05-27T12:21:10.235127Z",
     "iopub.status.idle": "2021-05-27T12:21:10.444099Z",
     "shell.execute_reply": "2021-05-27T12:21:10.444631Z",
     "shell.execute_reply.started": "2021-05-27T12:08:17.685110Z"
    },
    "papermill": {
     "duration": 0.285608,
     "end_time": "2021-05-27T12:21:10.444810",
     "exception": false,
     "start_time": "2021-05-27T12:21:10.159202",
     "status": "completed"
    },
    "tags": []
   },
   "outputs": [
    {
     "data": {
      "text/plain": [
       "<AxesSubplot:xlabel='x', ylabel='y'>"
      ]
     },
     "execution_count": 20,
     "metadata": {},
     "output_type": "execute_result"
    },
    {
     "data": {
      "image/png": "[encoded data removed]",
      "text/plain": [
       "<Figure size 432x288 with 1 Axes>"
      ]
     },
     "metadata": {
      "needs_background": "light"
     },
     "output_type": "display_data"
    }
   ],
   "source": [
    "# Visualize\n",
    "toy_colors = ['red'] * 1025 + ['blue'] * 1025\n",
    "df = pd.DataFrame(X_embedded, columns = ['x', 'y']) # Create pandas dataframe from the list of node embeddings\n",
    "df.plot.scatter(x = 'x', y = 'y', c = toy_colors)"
   ]
  }
 ],
 "metadata": {
  "kernelspec": {
   "display_name": "Python 3",
   "language": "python",
   "name": "python3"
  },
  "language_info": {
   "codemirror_mode": {
    "name": "ipython",
    "version": 3
   },
   "file_extension": ".py",
   "mimetype": "text/x-python",
   "name": "python",
   "nbconvert_exporter": "python",
   "pygments_lexer": "ipython3",
   "version": "3.7.10"
  },
  "papermill": {
   "default_parameters": {},
   "duration": 422.545374,
   "end_time": "2021-05-27T12:21:13.329729",
   "environment_variables": {},
   "exception": null,
   "input_path": "__notebook__.ipynb",
   "output_path": "__notebook__.ipynb",
   "parameters": {},
   "start_time": "2021-05-27T12:14:10.784355",
   "version": "2.3.3"
  }
 },
 "nbformat": 4,
 "nbformat_minor": 5
}
